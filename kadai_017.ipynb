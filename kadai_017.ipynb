{
  "nbformat": 4,
  "nbformat_minor": 0,
  "metadata": {
    "colab": {
      "provenance": []
    },
    "kernelspec": {
      "name": "python3",
      "display_name": "Python 3"
    },
    "language_info": {
      "name": "python"
    }
  },
  "cells": [
    {
      "cell_type": "code",
      "source": [
        "price1 = 100\n",
        "price2 = 200\n",
        "tax = 1.1\n",
        "\n",
        "def total():\n",
        "    return price1 + price2\n",
        "\n",
        "print (total() * tax)\n",
        "\n",
        "\n"
      ],
      "metadata": {
        "colab": {
          "base_uri": "https://localhost:8080/"
        },
        "id": "LQDoeJ7TgtQ4",
        "outputId": "b94add24-ba90-4ffd-862a-db3c4f82d93c"
      },
      "execution_count": 18,
      "outputs": [
        {
          "output_type": "stream",
          "name": "stdout",
          "text": [
            "330.0\n"
          ]
        }
      ]
    },
    {
      "cell_type": "code",
      "source": [
        "name = [\"札幌太郎\", \"札幌次郎\", \"札幌花子\"]\n",
        "age = [40,25,19]\n",
        "\n",
        "class Human():\n",
        "  def __init__(self, name, age):\n",
        "    self.name = name\n",
        "    self.age = age\n",
        "\n",
        "  def check_adult(self):\n",
        "    if 20 <= self.age:\n",
        "      print(f\"{self.name}は大人です\")\n",
        "    else:\n",
        "      print(f\"{self.name}は大人ではありません\")\n",
        "\n",
        "#インスタンス化\n",
        "personal_data = []\n",
        "for i in range(len(name)):\n",
        "  person = Human(name[i],age[i])\n",
        "  personal_data.append(person)\n",
        "\n",
        "#メソッドにアクセス\n",
        "for person in personal_data:\n",
        "  person.check_adult()\n"
      ],
      "metadata": {
        "colab": {
          "base_uri": "https://localhost:8080/"
        },
        "id": "7WT8Mc1epxbF",
        "outputId": "1bd8ac6a-5139-4a6a-fa4c-9bb657e09b20"
      },
      "execution_count": 5,
      "outputs": [
        {
          "output_type": "stream",
          "name": "stdout",
          "text": [
            "札幌太郎は大人です\n",
            "札幌次郎は大人です\n",
            "札幌花子は大人ではありません\n"
          ]
        }
      ]
    }
  ]
}