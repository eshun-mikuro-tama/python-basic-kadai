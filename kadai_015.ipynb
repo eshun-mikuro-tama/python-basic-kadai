{
  "nbformat": 4,
  "nbformat_minor": 0,
  "metadata": {
    "colab": {
      "provenance": []
    },
    "kernelspec": {
      "name": "python3",
      "display_name": "Python 3"
    },
    "language_info": {
      "name": "python"
    }
  },
  "cells": [
    {
      "cell_type": "code",
      "execution_count": 5,
      "metadata": {
        "colab": {
          "base_uri": "https://localhost:8080/"
        },
        "id": "U-91-oEPbKh1",
        "outputId": "8d6000c2-b578-41ee-ceae-849fa86cc96e"
      },
      "outputs": [
        {
          "output_type": "stream",
          "name": "stdout",
          "text": [
            "札幌一郎\n",
            "45\n"
          ]
        }
      ],
      "source": [
        "class Human:\n",
        "  def __init__(self, name, age):\n",
        "    self.name = name\n",
        "    self.age = age\n",
        "\n",
        "  def printinfo(self):\n",
        "    print(self.name)\n",
        "    print(self.age)\n",
        "\n",
        "#インスタンス化\n",
        "human = Human(\"札幌一郎\", 45)\n",
        "\n",
        "#メソッドにアクセスして実行する\n",
        "human.printinfo()"
      ]
    }
  ]
}